{
 "cells": [
  {
   "cell_type": "markdown",
   "id": "af51550b",
   "metadata": {},
   "source": [
    "# Equality"
   ]
  },
  {
   "cell_type": "code",
   "execution_count": 8,
   "id": "41715668",
   "metadata": {},
   "outputs": [
    {
     "data": {
      "text/plain": [
       "True"
      ]
     },
     "execution_count": 8,
     "metadata": {},
     "output_type": "execute_result"
    }
   ],
   "source": [
    "# Comparison of booleans\n",
    "True == False\n",
    "\n",
    "# Comparison of integers\n",
    "\n",
    "-5 * 15 != 75\n",
    "# Comparison of strings\n",
    "\n",
    "'pyscript' == 'PyScript'\n",
    "# Compare a boolean with an integer\n",
    "True == 1"
   ]
  },
  {
   "cell_type": "markdown",
   "id": "d25cb117",
   "metadata": {},
   "source": [
    "# Greater and Less than"
   ]
  },
  {
   "cell_type": "code",
   "execution_count": 9,
   "id": "6f7b6600",
   "metadata": {},
   "outputs": [
    {
     "name": "stdout",
     "output_type": "stream",
     "text": [
      "False\n",
      "True\n",
      "True\n"
     ]
    }
   ],
   "source": [
    "# Comparison of integers\n",
    "x = -3 * 6\n",
    "\n",
    "\n",
    "# Comparison of strings\n",
    "y = \"test\"\n",
    "\n",
    "\n",
    "# Comparison of booleans\n",
    "print(x >= -10)\n",
    "print(\"test\" <= y)\n",
    "print(True>False)"
   ]
  },
  {
   "cell_type": "markdown",
   "id": "dfac2a90",
   "metadata": {},
   "source": []
  },
  {
   "cell_type": "markdown",
   "id": "eadf2041",
   "metadata": {},
   "source": [
    "# Compare Arrays "
   ]
  },
  {
   "cell_type": "code",
   "execution_count": 10,
   "id": "67972c14",
   "metadata": {},
   "outputs": [
    {
     "name": "stdout",
     "output_type": "stream",
     "text": [
      "[ True  True False False]\n",
      "[False  True  True False]\n"
     ]
    }
   ],
   "source": [
    "# Create arrays\n",
    "import numpy as np\n",
    "my_house = np.array([18.0, 20.0, 10.75, 9.50])\n",
    "your_house = np.array([14.0, 24.0, 14.25, 9.0])\n",
    "\n",
    "# my_house greater than or equal to 18\n",
    "\n",
    "print(my_house >= 18)\n",
    "# my_house less than your_house\n",
    "print(my_house < your_house)"
   ]
  },
  {
   "cell_type": "code",
   "execution_count": null,
   "id": "8b818066",
   "metadata": {},
   "outputs": [],
   "source": []
  }
 ],
 "metadata": {
  "kernelspec": {
   "display_name": "Python 3 (ipykernel)",
   "language": "python",
   "name": "python3"
  },
  "language_info": {
   "codemirror_mode": {
    "name": "ipython",
    "version": 3
   },
   "file_extension": ".py",
   "mimetype": "text/x-python",
   "name": "python",
   "nbconvert_exporter": "python",
   "pygments_lexer": "ipython3",
   "version": "3.9.12"
  }
 },
 "nbformat": 4,
 "nbformat_minor": 5
}
